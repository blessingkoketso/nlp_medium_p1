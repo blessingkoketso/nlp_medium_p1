{
 "cells": [
  {
   "cell_type": "code",
   "execution_count": 20,
   "metadata": {},
   "outputs": [],
   "source": [
    "import pandas as pd\n",
    "import numpy as np\n",
    "import json\n",
    "from IPython.display import display, HTML\n",
    "\n",
    "pd.set_option('display.max_colwidth', 100)"
   ]
  },
  {
   "cell_type": "code",
   "execution_count": 19,
   "metadata": {},
   "outputs": [],
   "source": [
    "data = []\n",
    "\n",
    "# number of records (per label) to keep for training/testing\n",
    "data_count = 10000\n",
    "\n",
    "# counters\n",
    "count_p=0\n",
    "count_n =0\n",
    "\n",
    "# helper variable\n",
    "to_enter =0\n",
    "\n",
    "\n",
    "# only keep 1, 2, 4, 5 and create balanced dataset by equalizing positive and negative records\n",
    "with open('./review.json', encoding=\"utf8\") as f:\n",
    "    for line in f:\n",
    "        review = json.loads(line)\n",
    "        raw_rating = review['stars']        \n",
    "        \n",
    "        if(raw_rating == 3):\n",
    "            continue\n",
    "        \n",
    "        if((raw_rating == 1 or raw_rating == 2) and count_n < data_count):\n",
    "            sentiment = \"negative\"\n",
    "            count_n+=1\n",
    "            to_enter =1           \n",
    "        elif((raw_rating == 4 or raw_rating == 5) and count_p < data_count):\n",
    "            sentiment = \"positive\"\n",
    "            count_p+=1\n",
    "            to_enter = 1\n",
    "            \n",
    "        if(to_enter == 1):\n",
    "            to_enter = 0\n",
    "            entry = {\n",
    "                \"review\": review['text'],\n",
    "                \"sentiment\": sentiment\n",
    "            }\n",
    "            data.append(entry)\n",
    "        \n",
    "        if(count_p >= data_count and count_n >= data_count):\n",
    "            break\n",
    "            \n",
    "df = pd.DataFrame(data)\n",
    "#display(df.head(10))\n",
    "#display(df.shape)"
   ]
  }
 ],
 "metadata": {
  "kernelspec": {
   "display_name": "Python 3",
   "language": "python",
   "name": "python3"
  },
  "language_info": {
   "codemirror_mode": {
    "name": "ipython",
    "version": 3
   },
   "file_extension": ".py",
   "mimetype": "text/x-python",
   "name": "python",
   "nbconvert_exporter": "python",
   "pygments_lexer": "ipython3",
   "version": "3.7.1"
  }
 },
 "nbformat": 4,
 "nbformat_minor": 2
}
