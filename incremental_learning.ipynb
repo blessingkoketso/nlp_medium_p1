{
 "cells": [
  {
   "cell_type": "code",
   "execution_count": 1,
   "metadata": {},
   "outputs": [
    {
     "name": "stdout",
     "output_type": "stream",
     "text": [
      "              precision    recall  f1-score   support\n",
      "\n",
      "    negative       0.92      0.93      0.93      2507\n",
      "    positive       0.93      0.92      0.93      2493\n",
      "\n",
      "   micro avg       0.93      0.93      0.93      5000\n",
      "   macro avg       0.93      0.93      0.93      5000\n",
      "weighted avg       0.93      0.93      0.93      5000\n",
      "\n"
     ]
    },
    {
     "data": {
      "text/plain": [
       "<Figure size 640x480 with 2 Axes>"
      ]
     },
     "metadata": {},
     "output_type": "display_data"
    }
   ],
   "source": [
    "# Run data cleaning process\n",
    "%run data_cleaning.ipynb\n",
    "\n",
    "# Run model training\n",
    "%run nlp_model.ipynb"
   ]
  },
  {
   "cell_type": "code",
   "execution_count": 2,
   "metadata": {},
   "outputs": [
    {
     "name": "stdout",
     "output_type": "stream",
     "text": [
      "[\"I dont like this place, but it's good\"]\n",
      "['negative']\n"
     ]
    }
   ],
   "source": [
    "# Pre incremental train test (model will predict negative)\n",
    "input = [\"I dont like this place, but it's good\"]\n",
    "print(input)\n",
    "print(clf.predict(cv.transform(input)))"
   ]
  },
  {
   "cell_type": "code",
   "execution_count": 3,
   "metadata": {},
   "outputs": [],
   "source": [
    "# Incremental training\n",
    "X_instance = cv.transform(input)\n",
    "y_instance = ['positive']\n",
    "max_iter = 100\n",
    "\n",
    "for i in range (0,max_iter):\n",
    "    clf.partial_fit(X_instance, y_instance)\n",
    "    if(clf.predict(X_instance) == y_instance):\n",
    "        break"
   ]
  },
  {
   "cell_type": "code",
   "execution_count": 5,
   "metadata": {},
   "outputs": [
    {
     "name": "stdout",
     "output_type": "stream",
     "text": [
      "[\"I dont like this place, but it's good\"]\n",
      "['positive']\n"
     ]
    }
   ],
   "source": [
    "# Post incremental train test (weights changed so model will predict positive now)\n",
    "print(input)\n",
    "print(clf.predict(cv.transform(input)))"
   ]
  },
  {
   "cell_type": "code",
   "execution_count": 6,
   "metadata": {},
   "outputs": [
    {
     "data": {
      "text/plain": [
       "['review_sentiment.pkl']"
      ]
     },
     "execution_count": 6,
     "metadata": {},
     "output_type": "execute_result"
    }
   ],
   "source": [
    "# Don't forget to save newly trained model\n",
    "joblib.dump(cv, 'input_transformer.pkl')\n",
    "joblib.dump(clf, 'review_sentiment.pkl') "
   ]
  }
 ],
 "metadata": {
  "kernelspec": {
   "display_name": "Python 3",
   "language": "python",
   "name": "python3"
  },
  "language_info": {
   "codemirror_mode": {
    "name": "ipython",
    "version": 3
   },
   "file_extension": ".py",
   "mimetype": "text/x-python",
   "name": "python",
   "nbconvert_exporter": "python",
   "pygments_lexer": "ipython3",
   "version": "3.7.1"
  }
 },
 "nbformat": 4,
 "nbformat_minor": 2
}
